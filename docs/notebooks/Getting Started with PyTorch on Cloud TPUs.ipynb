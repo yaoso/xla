{
 "cells": [
  {
   "cell_type": "markdown",
   "id": "a99d2c0b",
   "metadata": {},
   "source": [
    "## Getting Started with PyTorch on Cloud TPUs\n",
    "\n",
    "* https://colab.research.google.com/github/pytorch/xla/blob/master/contrib/colab/getting-started.ipynb"
   ]
  },
  {
   "cell_type": "markdown",
   "id": "e5373c1d",
   "metadata": {},
   "source": [
    "PyTorch/XLA 连接了PyTorch和Cloud TPU，将TPU 核（core）作为设备（device）。\n",
    "\n",
    "虽然一块TPU有多个核，本notebook只使用其中一个，后面我们会介绍如何使用多核。"
   ]
  },
  {
   "cell_type": "markdown",
   "id": "cdc85c6e",
   "metadata": {},
   "source": [
    "## 安装 PyTorch/XLA\n",
    "\n",
    "如果你使用的是Cloud TPU VM，不需要我们手动安装，在创建TPU VM时，可以直接选择预装的PyTorch环境，比如最新版的是\"tpu-vm-pt-1.12\"，已经安装了 PyTorch 1.12.0 and Pytorch / XLA 1.12.0。\n"
   ]
  },
  {
   "cell_type": "markdown",
   "id": "8ceb1bb5",
   "metadata": {},
   "source": [
    "## 在TPU上创建Tensor\n",
    "\n",
    "有了PyTorch/XLA，你可以像对待CPU或GPU那样来管理Cloud TPU，我们将每个Cloud TPU 核（core）都看作一个独立的PyTorch device。"
   ]
  },
  {
   "cell_type": "code",
   "execution_count": null,
   "id": "edd5e6b0",
   "metadata": {},
   "outputs": [],
   "source": []
  }
 ],
 "metadata": {
  "kernelspec": {
   "display_name": "Python 3 (ipykernel)",
   "language": "python",
   "name": "python3"
  },
  "language_info": {
   "codemirror_mode": {
    "name": "ipython",
    "version": 3
   },
   "file_extension": ".py",
   "mimetype": "text/x-python",
   "name": "python",
   "nbconvert_exporter": "python",
   "pygments_lexer": "ipython3",
   "version": "3.8.10"
  }
 },
 "nbformat": 4,
 "nbformat_minor": 5
}
